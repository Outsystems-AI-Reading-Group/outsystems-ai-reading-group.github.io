{
 "cells": [
  {
   "cell_type": "markdown",
   "id": "6307b77f",
   "metadata": {},
   "source": [
    "# Change these variables :)"
   ]
  },
  {
   "cell_type": "code",
   "execution_count": 1,
   "id": "134cc8ec",
   "metadata": {},
   "outputs": [],
   "source": [
    "PRESENTER = \"André Menezes\"\n",
    "PAPER_LINK = \"https://aclanthology.org/2020.acl-main.463.pdf\" # Optional!\n",
    "GITHUB_LINK = \"\" # optional!\n",
    "PAPER_SHORT_TITLE = \"CORGI\" # to appear in banner (use the name of the model/algorithm if you need to)\n",
    "PAPER_TITLE = \"CORGI: Content-Rich Graph Neural Networks with Attention\" # if PAPER_LINK is not, put an empty description here\n",
    "RECORDING_LINK = \"https://outsystems.zoom.us/rec/share/uUrRAcYyyP1oW6w7AYC7oW8Ns8r05IwtiKS9wr11uOCAQ2QbaPPDhb_EWR3HwhdX.toAi568EtudzZrxv\"\n",
    "DATE_PRESENTATION = \"12/11/2021\" # Format: eg 01/04/2022\n",
    "RECORDING_LANGUAGE = \"gb\" # pt gb\n",
    "\n",
    "assert RECORDING_LANGUAGE in [\"gb\", \"pt\"]"
   ]
  },
  {
   "cell_type": "markdown",
   "id": "108291fe",
   "metadata": {},
   "source": [
    "# Run to Add Presentation to Website"
   ]
  },
  {
   "cell_type": "markdown",
   "id": "85fc1ae0",
   "metadata": {},
   "source": [
    "**Code**"
   ]
  },
  {
   "cell_type": "code",
   "execution_count": 2,
   "id": "9c7e3047",
   "metadata": {
    "code_folding": []
   },
   "outputs": [],
   "source": [
    "card = f\"             <!-- New Card--> \\n\\\n",
    "                <div class=\\\"col-md-4 mb-5\\\">\\n\\\n",
    "                    <div class=\\\"card h-100\\\">\\n\\\n",
    "                        <div class=\\\"card-body\\\">\\n\\\n",
    "                            <h2 class=\\\"card-title\\\">{PAPER_SHORT_TITLE}</h2>\\n\\\n",
    "                            <p class=\\\"card-text\\\">\\n\\\n",
    "                                <b>Paper:</b> <a href=\\\"{PAPER_LINK}\\\" style=\\\"color: darkcyan\\\">{PAPER_TITLE} </a> <br> <br>\\n\\\n",
    "                                <b>Presenter: </b> {PRESENTER} <br>\\n\\\n",
    "                                <b>Date: </b> {DATE_PRESENTATION}\\n\\\n",
    "                            </p>\\n\\\n",
    "                        </div>\\n\\\n",
    "                        <div class=\\\"card-footer\\\">\\n\\\n",
    "                            <div class=\\\"footer_col1\\\">\\n\\\n",
    "                                <a class=\\\"btn btn-primary btn-sm\\\" href=\\\"{RECORDING_LINK}\\\">Watch Recording <span class=\\\"flag-icon flag-icon-{RECORDING_LANGUAGE}\\\"></span></a>\\n\\\n",
    "                            </div>\\n\\\n",
    "                            <div class=\\\"footer_col2\\\">\\n\\\n",
    "                                <a href=\\\"{PAPER_LINK if PAPER_LINK else ''}\\\" style=\\\"color: black\\\"><i class=\\\"fa fa-file-pdf-o\\\" style=\\\"font-size:24px\\\"></i></a>\\n\"\n",
    "if GITHUB_LINK and len(GITHUB_LINK)>1:\n",
    "    card += f\"<a href=\\\"{GITHUB_LINK}\\\" style=\\\"color: black\\\"><i class=\\\"fa fa-github\\\" style=\\\"font-size:30px; padding-left: 5px\\\"></i></a>\\n\"\n",
    "card += f\"                            </div>\\n\\\n",
    "                        </div>\\n\\\n",
    "                    </div>\\n\\\n",
    "                </div>\\n\"\n"
   ]
  },
  {
   "cell_type": "code",
   "execution_count": 3,
   "id": "a1b1ce70",
   "metadata": {},
   "outputs": [],
   "source": [
    "save_file = list()\n",
    "\n",
    "with open(\"index.html\") as file:\n",
    "    for line in file:\n",
    "        save_file.append(line)\n",
    "        if \"<!--Add latest Card Here-->\" in line:\n",
    "            save_file.append(card)\n",
    "\n",
    "with open(\"index.html\", \"w\") as file:\n",
    "    for new_line in save_file:\n",
    "        file.write(new_line)\n"
   ]
  },
  {
   "cell_type": "code",
   "execution_count": null,
   "id": "9a9a646d",
   "metadata": {},
   "outputs": [],
   "source": []
  }
 ],
 "metadata": {
  "kernelspec": {
   "display_name": "Python 3",
   "language": "python",
   "name": "python3"
  },
  "language_info": {
   "codemirror_mode": {
    "name": "ipython",
    "version": 3
   },
   "file_extension": ".py",
   "mimetype": "text/x-python",
   "name": "python",
   "nbconvert_exporter": "python",
   "pygments_lexer": "ipython3",
   "version": "3.7.12"
  },
  "toc": {
   "base_numbering": 1,
   "nav_menu": {},
   "number_sections": true,
   "sideBar": true,
   "skip_h1_title": true,
   "title_cell": "Table of Contents",
   "title_sidebar": "Contents",
   "toc_cell": true,
   "toc_position": {},
   "toc_section_display": true,
   "toc_window_display": false
  }
 },
 "nbformat": 4,
 "nbformat_minor": 5
}
