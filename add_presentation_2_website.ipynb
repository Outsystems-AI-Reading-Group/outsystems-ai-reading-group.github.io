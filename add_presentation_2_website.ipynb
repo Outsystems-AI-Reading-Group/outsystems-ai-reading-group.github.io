{
 "cells": [
  {
   "cell_type": "markdown",
   "id": "f4fa1108",
   "metadata": {
    "toc": true
   },
   "source": [
    "<h1>Table of Contents<span class=\"tocSkip\"></span></h1>\n",
    "<div class=\"toc\"><ul class=\"toc-item\"></ul></div>"
   ]
  },
  {
   "cell_type": "markdown",
   "id": "22da4cb2",
   "metadata": {},
   "source": [
    "# Change these variables and run the notebook :)\n",
    "You should first make an ANNOUNCEMENT card and afterwards an UPDATE, just to add the recording link"
   ]
  },
  {
   "cell_type": "code",
   "execution_count": 7,
   "id": "a39e4bb1",
   "metadata": {},
   "outputs": [],
   "source": [
    "STATUS = \"ANNOUNCEMENT\" # 2 possible status: ANNOUNCEMENT, UPDATE\n",
    "\n",
    "# When ANNOUNCEMENT, fill in these values\n",
    "# If UPDATE, these values should be exactly the same as the ANNOUNCEMENT!\n",
    "PRESENTER = \"Samuel Arcadinho\"\n",
    "PAPER_LINK = \"https://arxiv.org/abs/2205.14690\" # Optional!\n",
    "GITHUB_LINK = \"https://github.com/Shark-NLP/CoNT\" # optional!\n",
    "PAPER_SHORT_TITLE = \"CoNT\" # to appear in banner (use the name of the model/algorithm if you need to)\n",
    "PAPER_TITLE = \"CoNT: Contrastive Neural Text Generation\" # if PAPER_LINK is not, put an empty description here\n",
    "DATE_PRESENTATION = \"24/06/2022\" # Format: eg 01/04/2022\n",
    "RECORDING_LANGUAGE = \"gb\" # pt gb\n",
    "\n",
    "# When UPDATE, only this variable should change\n",
    "RECORDING_LINK = \"\"\n",
    "\n",
    "assert RECORDING_LANGUAGE in [\"gb\", \"pt\"]\n",
    "assert STATUS in [\"ANNOUNCEMENT\", \"UPDATE\"]\n",
    "if STATUS == \"ANNOUNCEMENT\":\n",
    "    assert not RECORDING_LINK, \"Recording link should not exist if you are annoucing.\"\n",
    "else:\n",
    "    assert RECORDING_LINK, \"Updating without a recording link is not supported.\""
   ]
  },
  {
   "cell_type": "code",
   "execution_count": 8,
   "id": "c7e175d9",
   "metadata": {
    "code_folding": []
   },
   "outputs": [],
   "source": [
    "card = f\"             <!-- New Card--> \\n\\\n",
    "                <div class=\\\"col-md-4 mb-5\\\">\\n\\\n",
    "                    <div class=\\\"card h-100\\\">\\n\\\n",
    "                        <div class=\\\"card-body\\\">\\n\\\n",
    "                            <h2 class=\\\"card-title\\\">{PAPER_SHORT_TITLE}</h2>\\n\\\n",
    "                            <p class=\\\"card-text\\\">\\n\\\n",
    "                                <b>Paper:</b> <a href=\\\"{PAPER_LINK}\\\" style=\\\"color: darkcyan\\\">{PAPER_TITLE} </a> <br> <br>\\n\\\n",
    "                                <b>Presenter: </b> {PRESENTER} <br>\\n\\\n",
    "                                <b>Date: </b> {DATE_PRESENTATION}\\n\\\n",
    "                            </p>\\n\\\n",
    "                        </div>\\n\"\n",
    "\n",
    "update_button=f\"<a class=\\\"btn btn-primary btn-sm\\\" href=\\\"{RECORDING_LINK}\\\">Watch Recording <span class=\\\"flag-icon flag-icon-{RECORDING_LANGUAGE}\\\"></span></a>\\n\"\n",
    "announcement_button=f\"<a class=\\\"btn btn-primary btn-sm\\\" href=\\\"https://outsystems.zoom.us/s/99053471262?pwd=Q25paHZvWEtneDZZdHN4bHVscktzdz09#success\\\">To be presented!</a>\\n\"\n",
    "\n",
    "footer = f\"                        <div class=\\\"card-footer\\\">\\n\\\n",
    "                        <div class=\\\"footer_col1\\\">\\n\\\n",
    "                        %s</div>\\n\\\n",
    "                        <div class=\\\"footer_col2\\\">\\n\\\n",
    "                            <a href=\\\"{PAPER_LINK if PAPER_LINK else ''}\\\" style=\\\"color: black\\\"><i class=\\\"fa fa-file-pdf-o\\\" style=\\\"font-size:24px\\\"></i></a>\\n\"\n",
    "\n",
    "if GITHUB_LINK and len(GITHUB_LINK)>1:\n",
    "    footer += f\"<a href=\\\"{GITHUB_LINK}\\\" style=\\\"color: black\\\"><i class=\\\"fa fa-github\\\" style=\\\"font-size:30px; padding-left: 5px\\\"></i></a>\\n\"\n",
    "footer += f\"                            </div>\\n\\\n",
    "                            </div>\\n\"\n",
    "\n",
    "footer += f\"                    </div>\\n\\\n",
    "                </div>\\n\"\n",
    "\n",
    "announcement_card = card + footer % announcement_button\n",
    "update_card = card + footer % update_button"
   ]
  },
  {
   "cell_type": "code",
   "execution_count": 9,
   "id": "0617e9e5",
   "metadata": {},
   "outputs": [],
   "source": [
    "\n",
    "def find_all(a_str, sub):\n",
    "    # (ola): I dont trust re.finditer anymore, it failed idk why\n",
    "    start = 0\n",
    "    while True:\n",
    "        start = a_str.find(sub, start)\n",
    "        if start == -1: return\n",
    "        yield start\n",
    "        start += len(sub) # use start += 1 to find overlapping mtches\n",
    "        \n",
    "save_file = list()\n",
    "with open(\"index.html\") as file:\n",
    "    for line in file:\n",
    "        save_file.append(line)\n",
    "        \n",
    "        # Add new card\n",
    "        if STATUS == \"ANNOUNCEMENT\" and \"<!--Add latest Card Here-->\" in line:\n",
    "            save_file.append(announcement_card)\n",
    "all_text = \"\".join(save_file)\n",
    "            \n",
    "# if STATUS is UPDATE, update card\n",
    "if STATUS == \"UPDATE\":\n",
    "    n_found = 0\n",
    "    for start in find_all(all_text, announcement_card):\n",
    "        new_all_text = all_text[:start] + update_card + all_text[start + len(announcement_card):]\n",
    "        n_found += 1\n",
    "    assert n_found > 0, \"Did not find your announcement card to the card you are updating. Update the HTML manually as this is not supported.\"\n",
    "    assert n_found == 1, \"Found more than one announcement card to the card you are trying to update which is not supported. Update the HTML manually.\"\n",
    "else:\n",
    "    new_all_text = all_text\n",
    "    \n",
    "with open(\"index.html\", \"w\") as file:\n",
    "    file.write(new_all_text)\n"
   ]
  },
  {
   "cell_type": "code",
   "execution_count": null,
   "id": "81702e89",
   "metadata": {},
   "outputs": [],
   "source": []
  }
 ],
 "metadata": {
  "interpreter": {
   "hash": "31f2aee4e71d21fbe5cf8b01ff0e069b9275f58929596ceb00d14d90e3e16cd6"
  },
  "kernelspec": {
   "display_name": "Python 3 (ipykernel)",
   "language": "python",
   "name": "python3"
  },
  "language_info": {
   "codemirror_mode": {
    "name": "ipython",
    "version": 3
   },
   "file_extension": ".py",
   "mimetype": "text/x-python",
   "name": "python",
   "nbconvert_exporter": "python",
   "pygments_lexer": "ipython3",
   "version": "3.9.6"
  },
  "toc": {
   "base_numbering": 1,
   "nav_menu": {},
   "number_sections": true,
   "sideBar": true,
   "skip_h1_title": true,
   "title_cell": "Table of Contents",
   "title_sidebar": "Contents",
   "toc_cell": true,
   "toc_position": {},
   "toc_section_display": true,
   "toc_window_display": false
  }
 },
 "nbformat": 4,
 "nbformat_minor": 5
}
