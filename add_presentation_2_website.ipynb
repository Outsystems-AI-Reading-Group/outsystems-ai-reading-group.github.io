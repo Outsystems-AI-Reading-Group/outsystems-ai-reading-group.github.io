{
 "cells": [
  {
   "cell_type": "markdown",
   "metadata": {
    "toc": true
   },
   "source": [
    "<h1>Table of Contents<span class=\"tocSkip\"></span></h1>\n",
    "<div class=\"toc\"><ul class=\"toc-item\"></ul></div>"
   ]
  },
  {
   "cell_type": "markdown",
   "metadata": {},
   "source": [
    "# Change these variables :)"
   ]
  },
  {
   "cell_type": "code",
   "execution_count": 6,
   "metadata": {},
   "outputs": [],
   "source": [
    "STATUS = \"UPDATE\" # Tree possible status: ANNOUNCEMENT, UPDATE, CREATE_NEW\n",
    "\n",
    "PRESENTER = \"Patrick Fernandes & Marcos Treviso\"\n",
    "PAPER_LINK = \"https://coderpat.github.io/public/publications/fernandes22scaffold.pdf\" # Optional!\n",
    "GITHUB_LINK = \"https://github.com/coderpat/learning-scaffold\" # optional!\n",
    "PAPER_SHORT_TITLE = \"Learning to Scaffold\" # to appear in banner (use the name of the model/algorithm if you need to)\n",
    "PAPER_TITLE = \"Learning to Scaffold: Optimizing Model Explanations for Teaching\" # if PAPER_LINK is not, put an empty description here\n",
    "RECORDING_LINK = \"https://outsystems.zoom.us/rec/share/CnXEXExeLIcnFGIv7FiqlDebhHYyQ-pCCoRn05DXYB-Djmnm8s41eDZLKCgl1u42.bv1mCatBJpz37U-z\"\n",
    "DATE_PRESENTATION = \"22/04/2022\" # Format: eg 01/04/2022\n",
    "RECORDING_LANGUAGE = \"gb\" # pt gb\n",
    "\n",
    "assert RECORDING_LANGUAGE in [\"gb\", \"pt\"]"
   ]
  },
  {
   "cell_type": "code",
   "execution_count": 7,
   "metadata": {},
   "outputs": [],
   "source": [
    "assert(STATUS!=\"ANNOUNCEMENT\" or \n",
    "       STATUS!=\"UPDATE\" or \n",
    "       STATUS!=\"CREATE_NEW\" or \n",
    "       type(STATUS)!=str), \"Value passe to STATUS is not valid\"\n"
   ]
  },
  {
   "cell_type": "code",
   "execution_count": 8,
   "metadata": {},
   "outputs": [
    {
     "data": {
      "text/plain": [
       "False"
      ]
     },
     "execution_count": 8,
     "metadata": {},
     "output_type": "execute_result"
    }
   ],
   "source": [
    "type(STATUS)!=str"
   ]
  },
  {
   "cell_type": "markdown",
   "metadata": {},
   "source": [
    "# Run to Add Presentation to Website"
   ]
  },
  {
   "cell_type": "markdown",
   "metadata": {},
   "source": [
    "**Code**"
   ]
  },
  {
   "cell_type": "code",
   "execution_count": 9,
   "metadata": {
    "code_folding": []
   },
   "outputs": [],
   "source": [
    "card = f\"             <!-- New Card--> \\n\\\n",
    "                <div class=\\\"col-md-4 mb-5\\\">\\n\\\n",
    "                    <div class=\\\"card h-100\\\">\\n\\\n",
    "                        <div class=\\\"card-body\\\">\\n\\\n",
    "                            <h2 class=\\\"card-title\\\">{PAPER_SHORT_TITLE}</h2>\\n\\\n",
    "                            <p class=\\\"card-text\\\">\\n\\\n",
    "                                <b>Paper:</b> <a href=\\\"{PAPER_LINK}\\\" style=\\\"color: darkcyan\\\">{PAPER_TITLE} </a> <br> <br>\\n\\\n",
    "                                <b>Presenter: </b> {PRESENTER} <br>\\n\\\n",
    "                                <b>Date: </b> {DATE_PRESENTATION}\\n\\\n",
    "                            </p>\\n\\\n",
    "                        </div>\\n\"\n",
    "\n",
    "if STATUS != \"ANNOUNCEMENT\":\n",
    "\n",
    "    card += f\"                        <div class=\\\"card-footer\\\">\\n\\\n",
    "                            <div class=\\\"footer_col1\\\">\\n\\\n",
    "                                <a class=\\\"btn btn-primary btn-sm\\\" href=\\\"{RECORDING_LINK}\\\">Watch Recording <span class=\\\"flag-icon flag-icon-{RECORDING_LANGUAGE}\\\"></span></a>\\n\\\n",
    "                            </div>\\n\\\n",
    "                            <div class=\\\"footer_col2\\\">\\n\\\n",
    "                                <a href=\\\"{PAPER_LINK if PAPER_LINK else ''}\\\" style=\\\"color: black\\\"><i class=\\\"fa fa-file-pdf-o\\\" style=\\\"font-size:24px\\\"></i></a>\\n\"\n",
    "\n",
    "    if GITHUB_LINK and len(GITHUB_LINK)>1:\n",
    "        card += f\"<a href=\\\"{GITHUB_LINK}\\\" style=\\\"color: black\\\"><i class=\\\"fa fa-github\\\" style=\\\"font-size:30px; padding-left: 5px\\\"></i></a>\\n\"\n",
    "    card += f\"                            </div>\\n\\\n",
    "                                </div>\\n\"\n",
    "else:\n",
    "    card += f\"                        <!--Add footer--> \\n\"\n",
    "\n",
    "card += f\"                    </div>\\n\\\n",
    "                </div>\\n\"\n"
   ]
  },
  {
   "cell_type": "code",
   "execution_count": 11,
   "metadata": {},
   "outputs": [],
   "source": [
    "save_file = list()\n",
    "\n",
    "with open(\"index.html\") as file:\n",
    "    for line in file:\n",
    "        save_file.append(line)\n",
    "        \n",
    "        # Add new card\n",
    "        if STATUS!=\"UPDATE\" and \"<!--Add latest Card Here-->\" in line:\n",
    "            save_file.append(card)\n",
    "            \n",
    "        \n",
    "        # Add footer if card already added\n",
    "        elif STATUS==\"UPDATE\" and \"<!--Add footer-->\" in line:\n",
    "            footer = f\"                        <div class=\\\"card-footer\\\">\\n\\\n",
    "                            <div class=\\\"footer_col1\\\">\\n\\\n",
    "                                <a class=\\\"btn btn-primary btn-sm\\\" href=\\\"{RECORDING_LINK}\\\">Watch Recording <span class=\\\"flag-icon flag-icon-{RECORDING_LANGUAGE}\\\"></span></a>\\n\\\n",
    "                            </div>\\n\\\n",
    "                            <div class=\\\"footer_col2\\\">\\n\\\n",
    "                                <a href=\\\"{PAPER_LINK if PAPER_LINK else ''}\\\" style=\\\"color: black\\\"><i class=\\\"fa fa-file-pdf-o\\\" style=\\\"font-size:24px\\\"></i></a>\\n\"\n",
    "            if GITHUB_LINK and len(GITHUB_LINK)>1:\n",
    "                footer += f\"<a href=\\\"{GITHUB_LINK}\\\" style=\\\"color: black\\\"><i class=\\\"fa fa-github\\\" style=\\\"font-size:30px; padding-left: 5px\\\"></i></a>\\n\"\n",
    "            footer += f\"                            </div>\\n\\\n",
    "                                            </div>\\n\"\n",
    "            save_file.append(footer)\n",
    "            \n",
    "\n",
    "with open(\"index.html\", \"w\") as file:\n",
    "    for new_line in save_file:\n",
    "        file.write(new_line)\n"
   ]
  },
  {
   "cell_type": "code",
   "execution_count": null,
   "metadata": {},
   "outputs": [],
   "source": []
  },
  {
   "cell_type": "code",
   "execution_count": null,
   "metadata": {},
   "outputs": [],
   "source": []
  }
 ],
 "metadata": {
  "kernelspec": {
   "display_name": "Python 3",
   "language": "python",
   "name": "python3"
  },
  "language_info": {
   "codemirror_mode": {
    "name": "ipython",
    "version": 3
   },
   "file_extension": ".py",
   "mimetype": "text/x-python",
   "name": "python",
   "nbconvert_exporter": "python",
   "pygments_lexer": "ipython3",
   "version": "3.6.13"
  },
  "toc": {
   "base_numbering": 1,
   "nav_menu": {},
   "number_sections": true,
   "sideBar": true,
   "skip_h1_title": true,
   "title_cell": "Table of Contents",
   "title_sidebar": "Contents",
   "toc_cell": true,
   "toc_position": {},
   "toc_section_display": true,
   "toc_window_display": false
  }
 },
 "nbformat": 4,
 "nbformat_minor": 5
}
